{
 "cells": [
  {
   "cell_type": "code",
   "execution_count": 1,
   "id": "b4525aa6",
   "metadata": {},
   "outputs": [],
   "source": [
    "import pandas as pd\n",
    "import numpy as np\n",
    "import matplotlib.pyplot as plt\n",
    "# import imageio\n",
    "from tqdm.notebook import tqdm\n",
    "\n",
    "import sys\n",
    "sys.path.append(\"../\")\n",
    "from envs.environment import DeliveryEnvironment\n",
    "from agents.main_agents import QAgent, SARSAgent, DoubleQAgent, DelayedQAgent\n",
    "\n",
    "%matplotlib inline\n",
    "%load_ext autoreload\n",
    "%autoreload 2"
   ]
  },
  {
   "cell_type": "code",
   "execution_count": 2,
   "id": "b7332bcf",
   "metadata": {},
   "outputs": [],
   "source": [
    "def run_episode(env, agent, verbose = 1):\n",
    "\n",
    "    s = env.reset()\n",
    "    agent.reset_memory()\n",
    "\n",
    "    max_step = env.n_stops\n",
    "    \n",
    "    t_ = 0 # This is for the process of DelayedQAgent only\n",
    "    episode_reward = 0\n",
    "    \n",
    "    i = 1\n",
    "    while i < max_step + 1:\n",
    "\n",
    "        agent.remember_state(s)\n",
    "        a = agent.act(s)\n",
    "        s_next, r, done = env.step(a)\n",
    "        if agent.__class__.__name__ == 'SARSAgent':\n",
    "            a_next = agent.act(s_next)\n",
    "        r = -1 * r\n",
    "        \n",
    "        if verbose: print(s_next, r, done)\n",
    "\n",
    "        if agent.__class__.__name__ == 'DelayedQAgent':\n",
    "        \n",
    "            if agent.LEARN[s,a] == 1:\n",
    "                agent.U[s,a] = agent.U[s,a] + r + agent.gamma * np.max(agent.Q[s_next,a])\n",
    "                agent.l[s,a] = agent.l[s,a] + 1\n",
    "                \n",
    "                if agent.l[s,a] == agent.m:\n",
    "                    if agent.Q[s,a] - (agent.U[s,a] / agent.m) >= 2 * agent.epsilon:\n",
    "                        agent.Q[s,a] = (agent.U[s,a] / agent.m) + agent.epsilon\n",
    "                        t_ = i\n",
    "                    elif agent.t[s,a] >= t_:\n",
    "                        agent.LEARN[s,a] = 0\n",
    "                    \n",
    "                    agent.t[s,a] = i\n",
    "                    agent.U[s,a] = 0\n",
    "                    agent.l[s,a] = 0\n",
    "\n",
    "            elif agent.t[s,a] < t_:\n",
    "                agent.LEARN[s,a] = 1\n",
    "        \n",
    "        elif agent.__class__.__name__ == 'SARSAgent':\n",
    "            agent.train(s, a, r, s_next, a_next)\n",
    "        \n",
    "        elif agent.__class__.__name__ in ['QAgent', 'DoubleQAgent']:\n",
    "            agent.train(s, a, r, s_next)\n",
    "\n",
    "        if agent.__class__.__name__ in ['QAgent', 'SARSAgent', 'DoubleQAgent']:\n",
    "            if agent.epsilon > agent.epsilon_min:\n",
    "                # agent.epsilon *= agent.epsilon_decay\n",
    "                agent.epsilon = agent.epsilon**i\n",
    "                # agent.epsilon = -(i/max_step)**6 + 1\n",
    "                # agent.epsilon = 1 - i/max_step\n",
    "        \n",
    "        # Update the caches\n",
    "        episode_reward += r\n",
    "        s = s_next\n",
    "        if agent.__class__.__name__ == 'SARSAgent':\n",
    "            a = a_next\n",
    "        \n",
    "        # If the episode is terminated\n",
    "        i += 1\n",
    "        if done:\n",
    "            break\n",
    "            \n",
    "    return env, agent, episode_reward"
   ]
  },
  {
   "cell_type": "code",
   "execution_count": 3,
   "id": "17c82a41",
   "metadata": {},
   "outputs": [],
   "source": [
    "def run_n_episodes(env, agent, name = \"training.gif\", n_episodes = 2000, render_each = 10, duration = 100):\n",
    "\n",
    "    # Store the rewards\n",
    "    best_solution = None\n",
    "    best_fitness = float('-inf')\n",
    "    rewards = []\n",
    "    imgs = []\n",
    "\n",
    "    # Experience replay\n",
    "    for i in tqdm(range(n_episodes)):\n",
    "\n",
    "        # Run the episode\n",
    "        env, agent, episode_reward = run_episode(env, agent, verbose = 0)\n",
    "        rewards.append(episode_reward)\n",
    "        if episode_reward > best_fitness:\n",
    "            best_fitness = episode_reward\n",
    "            best_solution = agent.states_memory\n",
    "        \n",
    "        if i % render_each == 0:\n",
    "            img = env.render(return_img = True)\n",
    "            imgs.append(img)\n",
    "\n",
    "    # Show rewards\n",
    "    plt.figure(figsize = (15, 3))\n",
    "    plt.title(\"Rewards over training\")\n",
    "    plt.plot(rewards)\n",
    "    plt.show()\n",
    "\n",
    "    # Save imgs as gif\n",
    "    # imageio.mimsave(name, imgs, duration = duration)\n",
    "\n",
    "    return env, agent, best_fitness, best_solution"
   ]
  },
  {
   "cell_type": "code",
   "execution_count": 4,
   "id": "e49c16f9",
   "metadata": {},
   "outputs": [
    {
     "name": "stdout",
     "output_type": "stream",
     "text": [
      "<class 'pandas.core.frame.DataFrame'>\n",
      "RangeIndex: 2233 entries, 0 to 2232\n",
      "Data columns (total 3 columns):\n",
      " #   Column  Non-Null Count  Dtype  \n",
      "---  ------  --------------  -----  \n",
      " 0   index   2233 non-null   int64  \n",
      " 1   lat     2233 non-null   float64\n",
      " 2   lng     2233 non-null   float64\n",
      "dtypes: float64(2), int64(1)\n",
      "memory usage: 52.5 KB\n"
     ]
    }
   ],
   "source": [
    "df = pd.read_csv(\"master.csv\")\n",
    "df.info()"
   ]
  },
  {
   "cell_type": "code",
   "execution_count": 5,
   "id": "1dba1831",
   "metadata": {},
   "outputs": [
    {
     "name": "stdout",
     "output_type": "stream",
     "text": [
      "(5, 2)\n",
      "Initialized Delivery Environment with 5 random stops\n",
      "Target metric for optimization is haversine_distance\n"
     ]
    },
    {
     "data": {
      "image/png": "[encoded data removed]",
      "text/plain": [
       "<Figure size 700x700 with 1 Axes>"
      ]
     },
     "metadata": {},
     "output_type": "display_data"
    },
    {
     "data": {
      "application/vnd.jupyter.widget-view+json": {
       "model_id": "9532a1f1ebf14a07a44091dbffee5a56",
       "version_major": 2,
       "version_minor": 0
      },
      "text/plain": [
       "  0%|          | 0/2000 [00:00<?, ?it/s]"
      ]
     },
     "metadata": {},
     "output_type": "display_data"
    },
    {
     "data": {
      "image/png": "[encoded data removed]",
      "text/plain": [
       "<Figure size 1500x300 with 1 Axes>"
      ]
     },
     "metadata": {},
     "output_type": "display_data"
    },
    {
     "name": "stdout",
     "output_type": "stream",
     "text": [
      "best_fitness: -3.377773428564811\n",
      "best_fitness: [4, 3, 1, 2, '...', 4, 3, 1, 2] \n",
      " ---------------------------------\n",
      "(10, 2)\n",
      "Initialized Delivery Environment with 10 random stops\n",
      "Target metric for optimization is haversine_distance\n"
     ]
    },
    {
     "data": {
      "image/png": "[encoded data removed]",
      "text/plain": [
       "<Figure size 700x700 with 1 Axes>"
      ]
     },
     "metadata": {},
     "output_type": "display_data"
    },
    {
     "data": {
      "application/vnd.jupyter.widget-view+json": {
       "model_id": "b94a9726e65041ada99142ac4c8c2fb7",
       "version_major": 2,
       "version_minor": 0
      },
      "text/plain": [
       "  0%|          | 0/2000 [00:00<?, ?it/s]"
      ]
     },
     "metadata": {},
     "output_type": "display_data"
    },
    {
     "data": {
      "image/png": "[encoded data removed]",
      "text/plain": [
       "<Figure size 1500x300 with 1 Axes>"
      ]
     },
     "metadata": {},
     "output_type": "display_data"
    },
    {
     "name": "stdout",
     "output_type": "stream",
     "text": [
      "best_fitness: -5.023681281952384\n",
      "best_fitness: [8, 4, 3, 9, 7, '...', 7, 6, 1, 5, 2] \n",
      " ---------------------------------\n"
     ]
    }
   ],
   "source": [
    "# for i in [5, 10, 50, 100, 200, 500, 1000]:\n",
    "for i in [5, 10]:\n",
    "    data = df[['lat', 'lng']].head(i).to_numpy()\n",
    "    print(data.shape)\n",
    "\n",
    "    num_stops = data.shape[0]\n",
    "    env = DeliveryEnvironment(data = data, n_stops = num_stops, method = \"haversine_distance\")\n",
    "    agent = DelayedQAgent(env.observation_space, env.action_space)\n",
    "\n",
    "    env, agent, best_fitness, best_solution = run_n_episodes(env, agent, \"training_{}_stops.gif\".format(num_stops))\n",
    "    print('best_fitness:', best_fitness)\n",
    "    print('best_fitness:', best_solution[:5] + ['...'] + best_solution[-5:], '\\n', '---------------------------------')"
   ]
  },
  {
   "cell_type": "code",
   "execution_count": 6,
   "id": "7fddd415",
   "metadata": {},
   "outputs": [
    {
     "data": {
      "text/plain": [
       "'DelayedQAgent'"
      ]
     },
     "execution_count": 6,
     "metadata": {},
     "output_type": "execute_result"
    }
   ],
   "source": [
    "agent.__class__.__name__"
   ]
  },
  {
   "cell_type": "markdown",
   "id": "bacdd1e7",
   "metadata": {},
   "source": [
    "# Visualize Q"
   ]
  },
  {
   "cell_type": "code",
   "execution_count": 7,
   "id": "21e3e03d",
   "metadata": {},
   "outputs": [],
   "source": [
    "import plotly.graph_objects as go\n",
    "import plotly.express as px"
   ]
  },
  {
   "cell_type": "code",
   "execution_count": 8,
   "id": "ee71aa50",
   "metadata": {},
   "outputs": [
    {
     "data": {
      "application/vnd.plotly.v1+json": {
       "config": {
        "plotlyServerURL": "https://plot.ly"
       },
       "data": [
        {
         "contours": {
          "x": {
           "color": "white",
           "end": 2,
           "show": true,
           "size": 0.04,
           "start": 1.5
          },
          "z": {
           "end": 0.8,
           "highlightcolor": "limegreen",
           "project": {
            "z": true
           },
           "show": true,
           "size": 0.05,
           "start": 0.5,
           "usecolormap": true
          }
         },
         "surfacecolor": [
          [
           19.999999999999982,
           17.199515038215775,
           18.372217415918783,
           16.828198216342873,
           16.32125934963467,
           17.487026547330593,
           16.928620816239295,
           16.828137794378915,
           15.529393234514536,
           16.90630551836947
          ],
          [
           17.199515038215775,
           19.999999999999982,
           17.926107680298628,
           18.138051294101867,
           17.839188974006017,
           18.38762975112474,
           18.828581325048763,
           18.622309127858873,
           17.22583774937456,
           18.285499567206493
          ],
          [
           18.372217415918783,
           17.926107680298628,
           19.999999999999982,
           17.479317077950604,
           16.98968151847332,
           18.106510721111036,
           17.65566913905614,
           17.550603140187288,
           16.2210484218059,
           17.57665578303697
          ],
          [
           16.828198216342873,
           18.138051294101867,
           17.479317077950604,
           19.999999999999982,
           18.58585018111585,
           17.46223766070354,
           18.164085547042454,
           18.4532179550853,
           17.76884051267603,
           18.952529719328417
          ],
          [
           16.32125934963467,
           17.839188974006017,
           16.98968151847332,
           18.58585018111585,
           19.999999999999982,
           17.127206725164218,
           17.975028787807698,
           18.291191292371547,
           18.279431133349043,
           18.512463900051923
          ],
          [
           17.487026547330593,
           18.38762975112474,
           18.106510721111036,
           17.46223766070354,
           17.127206725164218,
           19.999999999999982,
           18.195195136718915,
           17.916852732051076,
           16.539023563674366,
           17.60662034354582
          ],
          [
           16.928620816239295,
           18.828581325048763,
           17.65566913905614,
           18.164085547042454,
           17.975028787807698,
           18.195195136718915,
           19.999999999999982,
           18.781008791434918,
           17.44375678728674,
           18.30524805002169
          ],
          [
           16.828137794378915,
           18.622309127858873,
           17.550603140187288,
           18.4532179550853,
           18.291191292371547,
           17.916852732051076,
           18.781008791434918,
           19.999999999999982,
           17.700630303377572,
           18.582559679615922
          ],
          [
           15.529393234514536,
           17.22583774937456,
           16.2210484218059,
           17.76884051267603,
           18.279431133349043,
           16.539023563674366,
           17.44375678728674,
           17.700630303377572,
           19.999999999999982,
           17.71697191459491
          ],
          [
           16.90630551836947,
           18.285499567206493,
           17.57665578303697,
           18.952529719328417,
           18.512463900051923,
           17.60662034354582,
           18.30524805002169,
           18.582559679615922,
           17.71697191459491,
           19.999999999999982
          ]
         ],
         "type": "surface",
         "x": [
          0,
          1,
          2,
          3,
          4,
          5,
          6,
          7,
          8,
          9
         ],
         "y": [
          0,
          1,
          2,
          3,
          4,
          5,
          6,
          7,
          8,
          9
         ],
         "z": [
          [
           19.999999999999982,
           17.199515038215775,
           18.372217415918783,
           16.828198216342873,
           16.32125934963467,
           17.487026547330593,
           16.928620816239295,
           16.828137794378915,
           15.529393234514536,
           16.90630551836947
          ],
          [
           17.199515038215775,
           19.999999999999982,
           17.926107680298628,
           18.138051294101867,
           17.839188974006017,
           18.38762975112474,
           18.828581325048763,
           18.622309127858873,
           17.22583774937456,
           18.285499567206493
          ],
          [
           18.372217415918783,
           17.926107680298628,
           19.999999999999982,
           17.479317077950604,
           16.98968151847332,
           18.106510721111036,
           17.65566913905614,
           17.550603140187288,
           16.2210484218059,
           17.57665578303697
          ],
          [
           16.828198216342873,
           18.138051294101867,
           17.479317077950604,
           19.999999999999982,
           18.58585018111585,
           17.46223766070354,
           18.164085547042454,
           18.4532179550853,
           17.76884051267603,
           18.952529719328417
          ],
          [
           16.32125934963467,
           17.839188974006017,
           16.98968151847332,
           18.58585018111585,
           19.999999999999982,
           17.127206725164218,
           17.975028787807698,
           18.291191292371547,
           18.279431133349043,
           18.512463900051923
          ],
          [
           17.487026547330593,
           18.38762975112474,
           18.106510721111036,
           17.46223766070354,
           17.127206725164218,
           19.999999999999982,
           18.195195136718915,
           17.916852732051076,
           16.539023563674366,
           17.60662034354582
          ],
          [
           16.928620816239295,
           18.828581325048763,
           17.65566913905614,
           18.164085547042454,
           17.975028787807698,
           18.195195136718915,
           19.999999999999982,
           18.781008791434918,
           17.44375678728674,
           18.30524805002169
          ],
          [
           16.828137794378915,
           18.622309127858873,
           17.550603140187288,
           18.4532179550853,
           18.291191292371547,
           17.916852732051076,
           18.781008791434918,
           19.999999999999982,
           17.700630303377572,
           18.582559679615922
          ],
          [
           15.529393234514536,
           17.22583774937456,
           16.2210484218059,
           17.76884051267603,
           18.279431133349043,
           16.539023563674366,
           17.44375678728674,
           17.700630303377572,
           19.999999999999982,
           17.71697191459491
          ],
          [
           16.90630551836947,
           18.285499567206493,
           17.57665578303697,
           18.952529719328417,
           18.512463900051923,
           17.60662034354582,
           18.30524805002169,
           18.582559679615922,
           17.71697191459491,
           19.999999999999982
          ]
         ]
        }
       ],
       "layout": {
        "height": 800,
        "scene": {
         "aspectratio": {
          "x": 1,
          "y": 1,
          "z": 1
         },
         "xaxis": {
          "nticks": 20
         }
        },
        "template": {
         "data": {
          "bar": [
           {
            "error_x": {
             "color": "#2a3f5f"
            },
            "error_y": {
             "color": "#2a3f5f"
            },
            "marker": {
             "line": {
              "color": "#E5ECF6",
              "width": 0.5
             },
             "pattern": {
              "fillmode": "overlay",
              "size": 10,
              "solidity": 0.2
             }
            },
            "type": "bar"
           }
          ],
          "barpolar": [
           {
            "marker": {
             "line": {
              "color": "#E5ECF6",
              "width": 0.5
             },
             "pattern": {
              "fillmode": "overlay",
              "size": 10,
              "solidity": 0.2
             }
            },
            "type": "barpolar"
           }
          ],
          "carpet": [
           {
            "aaxis": {
             "endlinecolor": "#2a3f5f",
             "gridcolor": "white",
             "linecolor": "white",
             "minorgridcolor": "white",
             "startlinecolor": "#2a3f5f"
            },
            "baxis": {
             "endlinecolor": "#2a3f5f",
             "gridcolor": "white",
             "linecolor": "white",
             "minorgridcolor": "white",
             "startlinecolor": "#2a3f5f"
            },
            "type": "carpet"
           }
          ],
          "choropleth": [
           {
            "colorbar": {
             "outlinewidth": 0,
             "ticks": ""
            },
            "type": "choropleth"
           }
          ],
          "contour": [
           {
            "colorbar": {
             "outlinewidth": 0,
             "ticks": ""
            },
            "colorscale": [
             [
              0,
              "#0d0887"
             ],
             [
              0.1111111111111111,
              "#46039f"
             ],
             [
              0.2222222222222222,
              "#7201a8"
             ],
             [
              0.3333333333333333,
              "#9c179e"
             ],
             [
              0.4444444444444444,
              "#bd3786"
             ],
             [
              0.5555555555555556,
              "#d8576b"
             ],
             [
              0.6666666666666666,
              "#ed7953"
             ],
             [
              0.7777777777777778,
              "#fb9f3a"
             ],
             [
              0.8888888888888888,
              "#fdca26"
             ],
             [
              1,
              "#f0f921"
             ]
            ],
            "type": "contour"
           }
          ],
          "contourcarpet": [
           {
            "colorbar": {
             "outlinewidth": 0,
             "ticks": ""
            },
            "type": "contourcarpet"
           }
          ],
          "heatmap": [
           {
            "colorbar": {
             "outlinewidth": 0,
             "ticks": ""
            },
            "colorscale": [
             [
              0,
              "#0d0887"
             ],
             [
              0.1111111111111111,
              "#46039f"
             ],
             [
              0.2222222222222222,
              "#7201a8"
             ],
             [
              0.3333333333333333,
              "#9c179e"
             ],
             [
              0.4444444444444444,
              "#bd3786"
             ],
             [
              0.5555555555555556,
              "#d8576b"
             ],
             [
              0.6666666666666666,
              "#ed7953"
             ],
             [
              0.7777777777777778,
              "#fb9f3a"
             ],
             [
              0.8888888888888888,
              "#fdca26"
             ],
             [
              1,
              "#f0f921"
             ]
            ],
            "type": "heatmap"
           }
          ],
          "heatmapgl": [
           {
            "colorbar": {
             "outlinewidth": 0,
             "ticks": ""
            },
            "colorscale": [
             [
              0,
              "#0d0887"
             ],
             [
              0.1111111111111111,
              "#46039f"
             ],
             [
              0.2222222222222222,
              "#7201a8"
             ],
             [
              0.3333333333333333,
              "#9c179e"
             ],
             [
              0.4444444444444444,
              "#bd3786"
             ],
             [
              0.5555555555555556,
              "#d8576b"
             ],
             [
              0.6666666666666666,
              "#ed7953"
             ],
             [
              0.7777777777777778,
              "#fb9f3a"
             ],
             [
              0.8888888888888888,
              "#fdca26"
             ],
             [
              1,
              "#f0f921"
             ]
            ],
            "type": "heatmapgl"
           }
          ],
          "histogram": [
           {
            "marker": {
             "pattern": {
              "fillmode": "overlay",
              "size": 10,
              "solidity": 0.2
             }
            },
            "type": "histogram"
           }
          ],
          "histogram2d": [
           {
            "colorbar": {
             "outlinewidth": 0,
             "ticks": ""
            },
            "colorscale": [
             [
              0,
              "#0d0887"
             ],
             [
              0.1111111111111111,
              "#46039f"
             ],
             [
              0.2222222222222222,
              "#7201a8"
             ],
             [
              0.3333333333333333,
              "#9c179e"
             ],
             [
              0.4444444444444444,
              "#bd3786"
             ],
             [
              0.5555555555555556,
              "#d8576b"
             ],
             [
              0.6666666666666666,
              "#ed7953"
             ],
             [
              0.7777777777777778,
              "#fb9f3a"
             ],
             [
              0.8888888888888888,
              "#fdca26"
             ],
             [
              1,
              "#f0f921"
             ]
            ],
            "type": "histogram2d"
           }
          ],
          "histogram2dcontour": [
           {
            "colorbar": {
             "outlinewidth": 0,
             "ticks": ""
            },
            "colorscale": [
             [
              0,
              "#0d0887"
             ],
             [
              0.1111111111111111,
              "#46039f"
             ],
             [
              0.2222222222222222,
              "#7201a8"
             ],
             [
              0.3333333333333333,
              "#9c179e"
             ],
             [
              0.4444444444444444,
              "#bd3786"
             ],
             [
              0.5555555555555556,
              "#d8576b"
             ],
             [
              0.6666666666666666,
              "#ed7953"
             ],
             [
              0.7777777777777778,
              "#fb9f3a"
             ],
             [
              0.8888888888888888,
              "#fdca26"
             ],
             [
              1,
              "#f0f921"
             ]
            ],
            "type": "histogram2dcontour"
           }
          ],
          "mesh3d": [
           {
            "colorbar": {
             "outlinewidth": 0,
             "ticks": ""
            },
            "type": "mesh3d"
           }
          ],
          "parcoords": [
           {
            "line": {
             "colorbar": {
              "outlinewidth": 0,
              "ticks": ""
             }
            },
            "type": "parcoords"
           }
          ],
          "pie": [
           {
            "automargin": true,
            "type": "pie"
           }
          ],
          "scatter": [
           {
            "fillpattern": {
             "fillmode": "overlay",
             "size": 10,
             "solidity": 0.2
            },
            "type": "scatter"
           }
          ],
          "scatter3d": [
           {
            "line": {
             "colorbar": {
              "outlinewidth": 0,
              "ticks": ""
             }
            },
            "marker": {
             "colorbar": {
              "outlinewidth": 0,
              "ticks": ""
             }
            },
            "type": "scatter3d"
           }
          ],
          "scattercarpet": [
           {
            "marker": {
             "colorbar": {
              "outlinewidth": 0,
              "ticks": ""
             }
            },
            "type": "scattercarpet"
           }
          ],
          "scattergeo": [
           {
            "marker": {
             "colorbar": {
              "outlinewidth": 0,
              "ticks": ""
             }
            },
            "type": "scattergeo"
           }
          ],
          "scattergl": [
           {
            "marker": {
             "colorbar": {
              "outlinewidth": 0,
              "ticks": ""
             }
            },
            "type": "scattergl"
           }
          ],
          "scattermapbox": [
           {
            "marker": {
             "colorbar": {
              "outlinewidth": 0,
              "ticks": ""
             }
            },
            "type": "scattermapbox"
           }
          ],
          "scatterpolar": [
           {
            "marker": {
             "colorbar": {
              "outlinewidth": 0,
              "ticks": ""
             }
            },
            "type": "scatterpolar"
           }
          ],
          "scatterpolargl": [
           {
            "marker": {
             "colorbar": {
              "outlinewidth": 0,
              "ticks": ""
             }
            },
            "type": "scatterpolargl"
           }
          ],
          "scatterternary": [
           {
            "marker": {
             "colorbar": {
              "outlinewidth": 0,
              "ticks": ""
             }
            },
            "type": "scatterternary"
           }
          ],
          "surface": [
           {
            "colorbar": {
             "outlinewidth": 0,
             "ticks": ""
            },
            "colorscale": [
             [
              0,
              "#0d0887"
             ],
             [
              0.1111111111111111,
              "#46039f"
             ],
             [
              0.2222222222222222,
              "#7201a8"
             ],
             [
              0.3333333333333333,
              "#9c179e"
             ],
             [
              0.4444444444444444,
              "#bd3786"
             ],
             [
              0.5555555555555556,
              "#d8576b"
             ],
             [
              0.6666666666666666,
              "#ed7953"
             ],
             [
              0.7777777777777778,
              "#fb9f3a"
             ],
             [
              0.8888888888888888,
              "#fdca26"
             ],
             [
              1,
              "#f0f921"
             ]
            ],
            "type": "surface"
           }
          ],
          "table": [
           {
            "cells": {
             "fill": {
              "color": "#EBF0F8"
             },
             "line": {
              "color": "white"
             }
            },
            "header": {
             "fill": {
              "color": "#C8D4E3"
             },
             "line": {
              "color": "white"
             }
            },
            "type": "table"
           }
          ]
         },
         "layout": {
          "annotationdefaults": {
           "arrowcolor": "#2a3f5f",
           "arrowhead": 0,
           "arrowwidth": 1
          },
          "autotypenumbers": "strict",
          "coloraxis": {
           "colorbar": {
            "outlinewidth": 0,
            "ticks": ""
           }
          },
          "colorscale": {
           "diverging": [
            [
             0,
             "#8e0152"
            ],
            [
             0.1,
             "#c51b7d"
            ],
            [
             0.2,
             "#de77ae"
            ],
            [
             0.3,
             "#f1b6da"
            ],
            [
             0.4,
             "#fde0ef"
            ],
            [
             0.5,
             "#f7f7f7"
            ],
            [
             0.6,
             "#e6f5d0"
            ],
            [
             0.7,
             "#b8e186"
            ],
            [
             0.8,
             "#7fbc41"
            ],
            [
             0.9,
             "#4d9221"
            ],
            [
             1,
             "#276419"
            ]
           ],
           "sequential": [
            [
             0,
             "#0d0887"
            ],
            [
             0.1111111111111111,
             "#46039f"
            ],
            [
             0.2222222222222222,
             "#7201a8"
            ],
            [
             0.3333333333333333,
             "#9c179e"
            ],
            [
             0.4444444444444444,
             "#bd3786"
            ],
            [
             0.5555555555555556,
             "#d8576b"
            ],
            [
             0.6666666666666666,
             "#ed7953"
            ],
            [
             0.7777777777777778,
             "#fb9f3a"
            ],
            [
             0.8888888888888888,
             "#fdca26"
            ],
            [
             1,
             "#f0f921"
            ]
           ],
           "sequentialminus": [
            [
             0,
             "#0d0887"
            ],
            [
             0.1111111111111111,
             "#46039f"
            ],
            [
             0.2222222222222222,
             "#7201a8"
            ],
            [
             0.3333333333333333,
             "#9c179e"
            ],
            [
             0.4444444444444444,
             "#bd3786"
            ],
            [
             0.5555555555555556,
             "#d8576b"
            ],
            [
             0.6666666666666666,
             "#ed7953"
            ],
            [
             0.7777777777777778,
             "#fb9f3a"
            ],
            [
             0.8888888888888888,
             "#fdca26"
            ],
            [
             1,
             "#f0f921"
            ]
           ]
          },
          "colorway": [
           "#636efa",
           "#EF553B",
           "#00cc96",
           "#ab63fa",
           "#FFA15A",
           "#19d3f3",
           "#FF6692",
           "#B6E880",
           "#FF97FF",
           "#FECB52"
          ],
          "font": {
           "color": "#2a3f5f"
          },
          "geo": {
           "bgcolor": "white",
           "lakecolor": "white",
           "landcolor": "#E5ECF6",
           "showlakes": true,
           "showland": true,
           "subunitcolor": "white"
          },
          "hoverlabel": {
           "align": "left"
          },
          "hovermode": "closest",
          "mapbox": {
           "style": "light"
          },
          "paper_bgcolor": "white",
          "plot_bgcolor": "#E5ECF6",
          "polar": {
           "angularaxis": {
            "gridcolor": "white",
            "linecolor": "white",
            "ticks": ""
           },
           "bgcolor": "#E5ECF6",
           "radialaxis": {
            "gridcolor": "white",
            "linecolor": "white",
            "ticks": ""
           }
          },
          "scene": {
           "xaxis": {
            "backgroundcolor": "#E5ECF6",
            "gridcolor": "white",
            "gridwidth": 2,
            "linecolor": "white",
            "showbackground": true,
            "ticks": "",
            "zerolinecolor": "white"
           },
           "yaxis": {
            "backgroundcolor": "#E5ECF6",
            "gridcolor": "white",
            "gridwidth": 2,
            "linecolor": "white",
            "showbackground": true,
            "ticks": "",
            "zerolinecolor": "white"
           },
           "zaxis": {
            "backgroundcolor": "#E5ECF6",
            "gridcolor": "white",
            "gridwidth": 2,
            "linecolor": "white",
            "showbackground": true,
            "ticks": "",
            "zerolinecolor": "white"
           }
          },
          "shapedefaults": {
           "line": {
            "color": "#2a3f5f"
           }
          },
          "ternary": {
           "aaxis": {
            "gridcolor": "white",
            "linecolor": "white",
            "ticks": ""
           },
           "baxis": {
            "gridcolor": "white",
            "linecolor": "white",
            "ticks": ""
           },
           "bgcolor": "#E5ECF6",
           "caxis": {
            "gridcolor": "white",
            "linecolor": "white",
            "ticks": ""
           }
          },
          "title": {
           "x": 0.05
          },
          "xaxis": {
           "automargin": true,
           "gridcolor": "white",
           "linecolor": "white",
           "ticks": "",
           "title": {
            "standoff": 15
           },
           "zerolinecolor": "white",
           "zerolinewidth": 2
          },
          "yaxis": {
           "automargin": true,
           "gridcolor": "white",
           "linecolor": "white",
           "ticks": "",
           "title": {
            "standoff": 15
           },
           "zerolinecolor": "white",
           "zerolinewidth": 2
          }
         }
        },
        "width": 1000
       }
      }
     },
     "metadata": {},
     "output_type": "display_data"
    }
   ],
   "source": [
    "x = [i for i in range(0, agent.states_size)]\n",
    "y = [i for i in range(0, agent.actions_size)]\n",
    "\n",
    "fig = go.Figure(\n",
    "    go.Surface(\n",
    "        contours = {\n",
    "            \"x\": {\"show\": True, \"start\": 1.5, \"end\": 2, \"size\": 0.04, \"color\":\"white\"},\n",
    "            \"z\": {\"show\": True, \"start\": 0.5, \"end\": 0.8, \"size\": 0.05}\n",
    "        },\n",
    "        x = x, y = y,\n",
    "        z = agent.Q,\n",
    "        surfacecolor = agent.Q\n",
    "    )\n",
    ")\n",
    "\n",
    "fig.update_layout(\n",
    "    # title = 'Q values',\n",
    "    width = 1000, height = 800,\n",
    "    scene = {\n",
    "        \"xaxis\": {\"nticks\": 20},\n",
    "        \"aspectratio\": {\"x\": 1, \"y\": 1, \"z\": 1}\n",
    "    }\n",
    ")\n",
    "\n",
    "\n",
    "fig.update_traces(\n",
    "    contours_z = dict(\n",
    "        show = True, usecolormap = True,\n",
    "        highlightcolor = \"limegreen\",\n",
    "        project_z = True\n",
    "    )\n",
    ")\n",
    "\n",
    "fig.show()"
   ]
  },
  {
   "cell_type": "raw",
   "id": "1d1aa3bb",
   "metadata": {
    "vscode": {
     "languageId": "raw"
    }
   },
   "source": [
    "(env.q_stops - np.abs(agent.Q)).round(2)"
   ]
  },
  {
   "cell_type": "raw",
   "id": "6e87d7fd",
   "metadata": {
    "vscode": {
     "languageId": "raw"
    }
   },
   "source": [
    "x = [i for i in range(0, agent.states_size)]\n",
    "y = [i for i in range(0, agent.actions_size)]\n",
    "\n",
    "fig = go.Figure(\n",
    "    go.Surface(\n",
    "        contours = {\n",
    "            \"x\": {\"show\": True, \"start\": 1.5, \"end\": 2, \"size\": 0.04, \"color\":\"white\"},\n",
    "            \"z\": {\"show\": True, \"start\": 0.5, \"end\": 0.8, \"size\": 0.05}\n",
    "        },\n",
    "        x = x, y = y,\n",
    "        z = (env.q_stops - np.abs(agent.Q)).round(2),\n",
    "        surfacecolor = (env.q_stops - np.abs(agent.Q)).round(2)\n",
    "    )\n",
    ")\n",
    "\n",
    "fig.update_layout(\n",
    "    title = 'Q values',\n",
    "    width = 1000, height = 800,\n",
    "    scene = {\n",
    "        \"xaxis\": {\"nticks\": 20},\n",
    "        \"aspectratio\": {\"x\": 1, \"y\": 1, \"z\": 1}\n",
    "    }\n",
    ")\n",
    "\n",
    "\n",
    "fig.update_traces(\n",
    "    contours_z = dict(\n",
    "        show = True, usecolormap = True,\n",
    "        highlightcolor = \"limegreen\",\n",
    "        project_z = True\n",
    "    )\n",
    ")\n",
    "\n",
    "fig.show()"
   ]
  },
  {
   "cell_type": "code",
   "execution_count": null,
   "id": "7ff66bdf",
   "metadata": {},
   "outputs": [],
   "source": []
  }
 ],
 "metadata": {
  "kernelspec": {
   "display_name": "Python 3 (ipykernel)",
   "language": "python",
   "name": "python3"
  },
  "language_info": {
   "codemirror_mode": {
    "name": "ipython",
    "version": 3
   },
   "file_extension": ".py",
   "mimetype": "text/x-python",
   "name": "python",
   "nbconvert_exporter": "python",
   "pygments_lexer": "ipython3",
   "version": "3.9.18"
  }
 },
 "nbformat": 4,
 "nbformat_minor": 5
}
